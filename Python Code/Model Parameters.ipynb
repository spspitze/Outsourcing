{
 "cells": [
  {
   "cell_type": "code",
   "execution_count": 33,
   "metadata": {},
   "outputs": [
    {
     "data": {
      "text/html": [
       "<div>\n",
       "<style scoped>\n",
       "    .dataframe tbody tr th:only-of-type {\n",
       "        vertical-align: middle;\n",
       "    }\n",
       "\n",
       "    .dataframe tbody tr th {\n",
       "        vertical-align: top;\n",
       "    }\n",
       "\n",
       "    .dataframe thead th {\n",
       "        text-align: right;\n",
       "    }\n",
       "</style>\n",
       "<table border=\"1\" class=\"dataframe\">\n",
       "  <thead>\n",
       "    <tr style=\"text-align: right;\">\n",
       "      <th></th>\n",
       "      <th>variable</th>\n",
       "      <th>value</th>\n",
       "    </tr>\n",
       "  </thead>\n",
       "  <tbody>\n",
       "    <tr>\n",
       "      <th>0</th>\n",
       "      <td>r</td>\n",
       "      <td>0.000939</td>\n",
       "    </tr>\n",
       "    <tr>\n",
       "      <th>1</th>\n",
       "      <td>B</td>\n",
       "      <td>0.999000</td>\n",
       "    </tr>\n",
       "    <tr>\n",
       "      <th>2</th>\n",
       "      <td>tau</td>\n",
       "      <td>97.000000</td>\n",
       "    </tr>\n",
       "    <tr>\n",
       "      <th>3</th>\n",
       "      <td>tau_o</td>\n",
       "      <td>74.000000</td>\n",
       "    </tr>\n",
       "    <tr>\n",
       "      <th>4</th>\n",
       "      <td>delta</td>\n",
       "      <td>0.007120</td>\n",
       "    </tr>\n",
       "    <tr>\n",
       "      <th>5</th>\n",
       "      <td>delta_o</td>\n",
       "      <td>0.009323</td>\n",
       "    </tr>\n",
       "    <tr>\n",
       "      <th>6</th>\n",
       "      <td>delta_hat</td>\n",
       "      <td>0.000000</td>\n",
       "    </tr>\n",
       "    <tr>\n",
       "      <th>7</th>\n",
       "      <td>u</td>\n",
       "      <td>0.056677</td>\n",
       "    </tr>\n",
       "    <tr>\n",
       "      <th>8</th>\n",
       "      <td>zeta</td>\n",
       "      <td>0.060419</td>\n",
       "    </tr>\n",
       "    <tr>\n",
       "      <th>9</th>\n",
       "      <td>pi</td>\n",
       "      <td>0.072682</td>\n",
       "    </tr>\n",
       "    <tr>\n",
       "      <th>10</th>\n",
       "      <td>phi</td>\n",
       "      <td>0.000000</td>\n",
       "    </tr>\n",
       "    <tr>\n",
       "      <th>11</th>\n",
       "      <td>psi</td>\n",
       "      <td>0.000000</td>\n",
       "    </tr>\n",
       "    <tr>\n",
       "      <th>12</th>\n",
       "      <td>lam</td>\n",
       "      <td>3.000000</td>\n",
       "    </tr>\n",
       "    <tr>\n",
       "      <th>13</th>\n",
       "      <td>l</td>\n",
       "      <td>0.206299</td>\n",
       "    </tr>\n",
       "    <tr>\n",
       "      <th>14</th>\n",
       "      <td>q</td>\n",
       "      <td>0.000000</td>\n",
       "    </tr>\n",
       "    <tr>\n",
       "      <th>15</th>\n",
       "      <td>b</td>\n",
       "      <td>0.000000</td>\n",
       "    </tr>\n",
       "    <tr>\n",
       "      <th>16</th>\n",
       "      <td>eta</td>\n",
       "      <td>0.500000</td>\n",
       "    </tr>\n",
       "    <tr>\n",
       "      <th>17</th>\n",
       "      <td>eta_o</td>\n",
       "      <td>0.000000</td>\n",
       "    </tr>\n",
       "    <tr>\n",
       "      <th>18</th>\n",
       "      <td>chi</td>\n",
       "      <td>0.000000</td>\n",
       "    </tr>\n",
       "    <tr>\n",
       "      <th>19</th>\n",
       "      <td>y_low</td>\n",
       "      <td>0.000000</td>\n",
       "    </tr>\n",
       "    <tr>\n",
       "      <th>20</th>\n",
       "      <td>y_high</td>\n",
       "      <td>0.000000</td>\n",
       "    </tr>\n",
       "    <tr>\n",
       "      <th>21</th>\n",
       "      <td>gamma</td>\n",
       "      <td>0.000000</td>\n",
       "    </tr>\n",
       "    <tr>\n",
       "      <th>22</th>\n",
       "      <td>gamma_o</td>\n",
       "      <td>0.000000</td>\n",
       "    </tr>\n",
       "  </tbody>\n",
       "</table>\n",
       "</div>"
      ],
      "text/plain": [
       "     variable      value\n",
       "0           r   0.000939\n",
       "1           B   0.999000\n",
       "2         tau  97.000000\n",
       "3       tau_o  74.000000\n",
       "4       delta   0.007120\n",
       "5     delta_o   0.009323\n",
       "6   delta_hat   0.000000\n",
       "7           u   0.056677\n",
       "8        zeta   0.060419\n",
       "9          pi   0.072682\n",
       "10        phi   0.000000\n",
       "11        psi   0.000000\n",
       "12        lam   3.000000\n",
       "13          l   0.206299\n",
       "14          q   0.000000\n",
       "15          b   0.000000\n",
       "16        eta   0.500000\n",
       "17      eta_o   0.000000\n",
       "18        chi   0.000000\n",
       "19      y_low   0.000000\n",
       "20     y_high   0.000000\n",
       "21      gamma   0.000000\n",
       "22    gamma_o   0.000000"
      ]
     },
     "execution_count": 33,
     "metadata": {},
     "output_type": "execute_result"
    }
   ],
   "source": [
    "# This code takes parameters from model_parameters and checks how \n",
    "# reasonable they are according to the model\n",
    "\n",
    "import numpy as np\n",
    "import matplotlib.pyplot as plt\n",
    "import pandas as pd\n",
    "\n",
    "parameters = pd.read_csv(\"../../Cleaned Data/model_parameters.csv\")\n",
    "\n",
    "values = parameters[[\"value\"]].to_numpy()\n",
    "# values\n",
    "# parameters\n",
    "[r, B, tau, tau_o, delta, delta_o, delta_hat, u, zeta, pi,\n",
    " phi, psi, lam, l, q, b, eta, eta_o, chi, y_low, y_high, gamma, gamma_o] = values[:]\n",
    "\n",
    "parameters"
   ]
  },
  {
   "cell_type": "code",
   "execution_count": 43,
   "metadata": {},
   "outputs": [
    {
     "name": "stdout",
     "output_type": "stream",
     "text": [
      "In data, u is [0.05667705]. According to job flows, in model is [0.03396565]\n",
      "If l were [0.15910358], according to job flows in model, u would be [0.04360178]\n"
     ]
    }
   ],
   "source": [
    "# How reasonable are job finding and separation rates? Use Model to compare to unemployment\n",
    "job_loss = delta * (1 - zeta) + delta_o * zeta\n",
    "u_model = job_loss / (job_loss + l)\n",
    "print(f\"In data, u is {u}. According to job flows, in model is {u_model}\")\n",
    "\n",
    "# How could this be better? What if lam is 5 instead of 3 (about .55 quantile rather than median)\n",
    "l_2 = 1 - .5 ** (1 / (lam + 1))\n",
    "u_model_2 = job_loss / (job_loss + l_2)\n",
    "print(f\"If l were {l_2}, according to job flows in model, u would be {u_model_2}\")"
   ]
  },
  {
   "cell_type": "code",
   "execution_count": 49,
   "metadata": {},
   "outputs": [
    {
     "name": "stdout",
     "output_type": "stream",
     "text": [
      "Does [12.75857152] = [11.87690281]?\n"
     ]
    },
    {
     "data": {
      "text/plain": [
       "array([12.30331134])"
      ]
     },
     "execution_count": 49,
     "metadata": {},
     "output_type": "execute_result"
    }
   ],
   "source": [
    "# According to model, these should be the same\n",
    "v_ratio_1 = (1 - pi) / pi\n",
    "v_ratio_2 = (1 - zeta) * delta / (zeta * delta_o)\n",
    "print(f\"Does {v_ratio_1} = {v_ratio_2}?\")\n",
    "(1 - zeta) * delta / (zeta * delta_o)"
   ]
  },
  {
   "cell_type": "code",
   "execution_count": 40,
   "metadata": {},
   "outputs": [
    {
     "data": {
      "text/plain": [
       "3.0"
      ]
     },
     "execution_count": 40,
     "metadata": {},
     "output_type": "execute_result"
    }
   ],
   "source": []
  }
 ],
 "metadata": {
  "kernelspec": {
   "display_name": "Python 3",
   "language": "python",
   "name": "python3"
  },
  "language_info": {
   "codemirror_mode": {
    "name": "ipython",
    "version": 3
   },
   "file_extension": ".py",
   "mimetype": "text/x-python",
   "name": "python",
   "nbconvert_exporter": "python",
   "pygments_lexer": "ipython3",
   "version": "3.7.6"
  }
 },
 "nbformat": 4,
 "nbformat_minor": 4
}
